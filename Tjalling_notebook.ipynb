{
  "cells": [
    {
      "metadata": {
        "_uuid": "cef5290607b2cc3124c1b146d5d4a219e78ef3f9",
        "_cell_guid": "41741397-b389-45f3-8b12-db366dfd2730",
        "_kg_hide-input": false,
        "trusted": false,
        "collapsed": true
      },
      "cell_type": "code",
      "source": "# This Python 3 environment comes with many helpful analytics libraries installed\n# It is defined by the kaggle/python docker image: https://github.com/kaggle/docker-python\n# For example, here's several helpful packages to load in \n\n# data analysis and wrangling\nimport pandas as pd\nimport numpy as np\nimport random as rnd\nfrom sklearn.model_selection import train_test_split\nfrom sklearn.metrics import accuracy_score\n\n\n# visualization\nimport seaborn as sns\nimport matplotlib.pyplot as plt\n%matplotlib inline\n\n# machine learning\nfrom sklearn.linear_model import LogisticRegression\nfrom sklearn.svm import SVC, LinearSVC\nfrom sklearn.ensemble import RandomForestClassifier\nfrom sklearn.neighbors import KNeighborsClassifier\nfrom sklearn.naive_bayes import GaussianNB\nfrom sklearn.linear_model import Perceptron\nfrom sklearn.linear_model import SGDClassifier\nfrom sklearn.tree import DecisionTreeClassifier\n\n# Input data files are available in the \"../input/\" directory.\n# For example, running this (by clicking run or pressing Shift+Enter) will list the files in the input directory\n\nfrom subprocess import check_output\nprint(check_output([\"ls\", \"../input\"]).decode(\"utf8\"))\n\n# Any results you write to the current directory are saved as output.",
      "execution_count": null,
      "outputs": []
    },
    {
      "metadata": {
        "_uuid": "c6af9927163e3d26f9d771beac839618bf3b7a2d",
        "_cell_guid": "3868a8c7-b9ba-4ed9-8808-cd25f476977e"
      },
      "cell_type": "markdown",
      "source": "# Read in data"
    },
    {
      "metadata": {
        "collapsed": true,
        "_uuid": "34a325ee0ca7f268872757a18debce13f34fd8de",
        "_cell_guid": "0a0d900e-b1fb-4809-8d41-32db648148b5",
        "trusted": false
      },
      "cell_type": "code",
      "source": "# read in data from csv files\ntrain_df = pd.read_csv('../input/train.csv')\ntest_df = pd.read_csv('../input/test.csv')\ncombine = [train_df, test_df]",
      "execution_count": null,
      "outputs": []
    },
    {
      "metadata": {
        "collapsed": true,
        "_uuid": "cb83ef0b1c87b705e205983aa2cbe901e1c29ab2",
        "_cell_guid": "d2b00df5-53c1-453c-8aa8-579d1c0eae2b",
        "trusted": false
      },
      "cell_type": "code",
      "source": "# preview the data\ntrain_df.head()",
      "execution_count": null,
      "outputs": []
    },
    {
      "metadata": {
        "_uuid": "a68c7b66ca61bc0ba401526d4dd1868f81f228a4",
        "_cell_guid": "8dc57e01-760a-4b06-a061-0f3e22cacc1e"
      },
      "cell_type": "markdown",
      "source": "# Preprocessing \n### Remove survived column"
    },
    {
      "metadata": {
        "_uuid": "45e49752200f50ac80e022fc6513acd5c9011e2d",
        "_cell_guid": "d3640228-4465-4397-b447-0080a82765e0",
        "trusted": false,
        "collapsed": true
      },
      "cell_type": "code",
      "source": "train_X = train_df\ntrain_Y = train_X[\"Survived\"]\ndel train_X[\"Survived\"] # Delete because it is numeric and we want to index independent numerical\n\n# preview the data\ntrain_X.head()",
      "execution_count": null,
      "outputs": []
    },
    {
      "metadata": {
        "_uuid": "5e41aa6d6510f2cd217f9559e590d9ced0c371e8",
        "_cell_guid": "203d9294-b9db-4a84-9746-4a865df48cfd"
      },
      "cell_type": "markdown",
      "source": "### Replace sex for numerical labels"
    },
    {
      "metadata": {
        "_uuid": "005699461a71baff4eb1156fc3bfbdf5a4015e98",
        "_cell_guid": "124dfcb0-383f-45d5-b720-9845f16bdaaa",
        "trusted": false,
        "collapsed": true
      },
      "cell_type": "code",
      "source": "# replace sex attribute to numerical: female=0, male=1\ntrain_X['Sex'].replace(['female','male'], [0,1],inplace=True)\n\n# preview the data\ntrain_X.head()",
      "execution_count": null,
      "outputs": []
    },
    {
      "metadata": {
        "_uuid": "abfec6e82ed9d2a3e6b84b647f3e66f4497eec9c",
        "_cell_guid": "acf4e7c9-2f4c-4351-b254-4509f353fb7d"
      },
      "cell_type": "markdown",
      "source": "### Make age categories "
    },
    {
      "metadata": {
        "_uuid": "533a9dbe4e58b4832e9f9e35236291be069ec43a",
        "_cell_guid": "4ff006cb-227d-4cfd-bee6-d87cb677dbcb",
        "scrolled": true,
        "trusted": false,
        "collapsed": true
      },
      "cell_type": "code",
      "source": "train_X[\"Age\"].fillna(train_X.Age.mean(), inplace=True)\n\n# Age to category of age\ninterval = (0, 5, 12, 18, 25, 35, 60, 120)\ncats = [0,1,2,3,4,5,6]\ntrain_X[\"Age_cat\"] = pd.cut(train_X.Age, interval, labels=cats)\ntrain_X[\"Age_cat\"].head()",
      "execution_count": null,
      "outputs": []
    },
    {
      "metadata": {
        "_uuid": "7ec5b4484e10d9b9f3db41fe3858fec67fbd4a3c",
        "_cell_guid": "5cbe216a-7080-43d4-96d9-61d5ed0a93e2"
      },
      "cell_type": "markdown",
      "source": "### Categorize embarked attribute"
    },
    {
      "metadata": {
        "_uuid": "e4d2988689f5f2c6be545607c0d9fe7f1d324ab4",
        "_cell_guid": "08b6f654-627d-4bc8-b760-93069455e814",
        "trusted": false,
        "collapsed": true
      },
      "cell_type": "code",
      "source": "freq_port = train_X.Embarked.dropna().mode()[0]\nprint (\"Replacing NaN values of embarked with most frequent port:\", freq_port)\ntrain_X['Embarked'] = train_X['Embarked'].fillna(freq_port)\n\n# we have three types of ports\nprint(pd.unique(train_X['Embarked']))\n\n# replace port numbers with category ID\ntrain_X[\"Embarked_cat\"] = train_X[\"Embarked\"]\ntrain_X[\"Embarked_cat\"].replace(['S','C','Q'], [1,2,3], inplace=True) # To numerical values\nprint(pd.unique(train_X['Embarked_cat']))\n\n# preview the data\ntrain_X.head()",
      "execution_count": null,
      "outputs": []
    },
    {
      "metadata": {
        "_uuid": "7a025c3439b8176c4c652b98b12293a63ba48537",
        "_cell_guid": "d843fa84-e568-491c-9d6d-cc5eefcabf48"
      },
      "cell_type": "markdown",
      "source": "### Put fares into numerical categories"
    },
    {
      "metadata": {
        "_uuid": "a2493b28a370871d572b1dc3d531f8cc6599620c",
        "_cell_guid": "4c901814-f84a-4427-bc78-58a728ca469c",
        "trusted": false,
        "collapsed": true
      },
      "cell_type": "code",
      "source": "# Fill in NaN values\ntrain_X[\"Fare\"].fillna(train_X.Fare.mean(), inplace=True)\ntrain_X.head()\n\n# Put fares into 4 bands (see https://www.kaggle.com/polarhut/titanic-data-science-solutions)\ntrain_X['Fare_cat'] = train_X['Fare']\ntrain_X.loc[ train_X['Fare_cat'] <= 7.91, 'Fare_cat'] = 0\ntrain_X.loc[(train_X['Fare_cat'] > 7.91) & (train_X['Fare'] <= 14.454), 'Fare_cat'] = 1\ntrain_X.loc[(train_X['Fare_cat'] > 14.454) & (train_X['Fare'] <= 31), 'Fare_cat']   = 2\ntrain_X.loc[ train_X['Fare_cat'] > 31, 'Fare_cat'] = 3\ntrain_X['Fare_cat'] = train_X['Fare_cat'].astype(int)\n\n\n# interval = (0, 7.91, 14.54, 31, 1000)\n# cats = [0,1,2,3]\n# train_X['Fare_cat'] = train_X['Fare']\n# train_X['Fare_cat'] = pd.cut(train_X.Fare, interval, labels=cats)\ntrain_X['Fare_cat'].head()",
      "execution_count": null,
      "outputs": []
    },
    {
      "metadata": {
        "_uuid": "d1d5e4bbdd281114081dc3a54b8b59aed17a8011",
        "_cell_guid": "f731d611-b21d-4a40-b86a-385aa57302d7"
      },
      "cell_type": "markdown",
      "source": "### Create a new feature: family size and isAlone"
    },
    {
      "metadata": {
        "_uuid": "743162eb481e27ea6c1796040c92f6a40a3a21d4",
        "_cell_guid": "7fc145b0-f06b-432f-9791-2fa6380279ec",
        "trusted": false,
        "collapsed": true
      },
      "cell_type": "code",
      "source": "# family = self + sibelings/spouse + Parents/childs\ntrain_X['FamilySize'] = train_X['SibSp'] + train_X['Parch'] + 1\n\ntrain_X['IsAlone'] = 0\ntrain_X.loc[train_X['FamilySize'] == 1, 'IsAlone'] = 1\n\n# preview the data\ntrain_X.head()",
      "execution_count": null,
      "outputs": []
    },
    {
      "metadata": {
        "_uuid": "c3cc746083ad7b0e5a2f64732bf0a9610b12f702",
        "_cell_guid": "c7913df1-4e49-49dc-a2a2-5d11c1f69d2e"
      },
      "cell_type": "markdown",
      "source": "### Create a new feature: Pclass * age"
    },
    {
      "metadata": {
        "_uuid": "f82e0fc6991ea45903c84e2e064ba03d04fd858e",
        "_cell_guid": "a79e6e96-05fb-4915-81e7-d4e7a3f63e0e",
        "trusted": false,
        "collapsed": true
      },
      "cell_type": "code",
      "source": "train_X['Age*Class'] = train_X.Age_cat * train_X.Pclass\n\ntrain_X.loc[:, ['Age*Class', 'Age_cat', 'Pclass']].head(10)",
      "execution_count": null,
      "outputs": []
    },
    {
      "metadata": {
        "_uuid": "cd5cc13c7d3373cd1c481d9d149cab28c57c63e0",
        "_cell_guid": "1958de38-235e-4b22-9bbc-8db6bf338ce8"
      },
      "cell_type": "markdown",
      "source": "### Remove attributes with no predictive power "
    },
    {
      "metadata": {
        "_uuid": "fd301860170b1b820fe7f2f434bc92da46ecec8f",
        "_cell_guid": "9ec7b7ef-f36a-4219-bf17-ff7628dbb362",
        "trusted": false,
        "collapsed": true
      },
      "cell_type": "code",
      "source": "# remove \ntrain_X = train_X.drop(['PassengerId','SibSp','Parch', 'Age', 'Fare'], axis=1)\n\n# preview the data\ntrain_X.head()",
      "execution_count": null,
      "outputs": []
    },
    {
      "metadata": {
        "_uuid": "744d6a29ccdb2e207f3d799b2dcf0adfccdb5893",
        "_cell_guid": "656f1241-ef90-4381-b80e-abbf5a601f25"
      },
      "cell_type": "markdown",
      "source": "# Evaluation "
    },
    {
      "metadata": {
        "_uuid": "834c5d22307125daada0cc568d4302a4302388a6",
        "_cell_guid": "34f908d2-f473-428c-bae5-e00cceb1a61f",
        "trusted": false,
        "collapsed": true
      },
      "cell_type": "code",
      "source": "runs = 100 # Do it over multiple runs to get estimate of \"true\" accuracy distribution\naccus = np.zeros((runs,1))\n\n# Only numerical attributes are used\nnumeric_variables = list(train_X.dtypes[train_X.dtypes!= 'object'].index) \nprint (\"Using variables:\", numeric_variables)\n\nprint (\"Running..\")\nfor run in range(runs):\n    # generate a random train / test split\n    cv_X_train, cv_X_test, cv_Y_train, cv_Y_test = train_test_split(train_X, train_Y, test_size=0.3)\n\n    # decision tree -> 80.0 acc\n#     model = DecisionTreeClassifier()\n#     model.fit(cv_X_train[numeric_variables], cv_Y_train)\n#     # calc mean accuracy over predicted test set\n#     accus[run] = model.score(cv_X_test[numeric_variables], cv_Y_test)\n    \n    # random forest -> 81.2 acc\n    model = RandomForestClassifier(n_estimators=250)\n    model.fit(cv_X_train[numeric_variables], cv_Y_train)\n    # calc mean accuracy over predicted test set\n    accus[run] = model.score(cv_X_test[numeric_variables], cv_Y_test)\n\nprint(\"Mean test accuracy:\", str(np.mean(accus)), \"| Std:\", str(np.std(accus)) + \". in\", str(runs),\"runs.\")",
      "execution_count": null,
      "outputs": []
    }
  ],
  "metadata": {
    "kernelspec": {
      "display_name": "Python 3",
      "language": "python",
      "name": "python3"
    },
    "language_info": {
      "version": "3.6.4",
      "file_extension": ".py",
      "codemirror_mode": {
        "version": 3,
        "name": "ipython"
      },
      "name": "python",
      "pygments_lexer": "ipython3",
      "mimetype": "text/x-python",
      "nbconvert_exporter": "python"
    }
  },
  "nbformat": 4,
  "nbformat_minor": 1
}